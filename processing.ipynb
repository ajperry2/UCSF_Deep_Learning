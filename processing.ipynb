{
 "cells": [
  {
   "cell_type": "code",
   "execution_count": 13,
   "metadata": {},
   "outputs": [],
   "source": [
    "import glob\n",
    "import numpy as np\n",
    "import matplotlib.pyplot as plt\n",
    "import matplotlib.image as mpimg\n",
    "import os\n",
    "import copy\n",
    "from PIL import Image\n",
    "import datetime\n",
    "from tqdm import tqdm_notebook\n",
    "import torchvision.transforms as transforms\n",
    "\n"
   ]
  },
  {
   "cell_type": "code",
   "execution_count": 28,
   "metadata": {
    "scrolled": true
   },
   "outputs": [],
   "source": [
    "#reading filename lists\n",
    "num_patients = 125\n",
    "window_size = [256,256,256]\n",
    "target_resolution = [1,1,1] # w x h x d (looking down the sagittal-caronal axis)\n",
    "\n",
    "CT_file_list = sorted(glob.glob(\"../scratch_alan/prostate_jc/PROSTATE*/CT.bin\"))[:num_patients]\n",
    "prostate_file_list = sorted(glob.glob(\"../scratch_alan/prostate_jc/PROSTATE*/Prostate*.bin\"))[:num_patients]\n",
    "info_file_list = sorted(glob.glob(\"../scratch_alan/prostate_jc/PROSTATE*/info.txt\"))[:num_patients]\n",
    "info2_file_list = sorted(glob.glob(\"../scratch_alan/prostate_jc/PROSTATE*/info_2.txt\"))[:num_patients]\n",
    "#saving options\n",
    "target_save_path = \"./datasets/prostate_segmentation/\"\n",
    "slices_per_patient = 30"
   ]
  },
  {
   "cell_type": "code",
   "execution_count": 29,
   "metadata": {},
   "outputs": [
    {
     "data": {
      "text/plain": [
       "111"
      ]
     },
     "execution_count": 29,
     "metadata": {},
     "output_type": "execute_result"
    }
   ],
   "source": [
    "len(prostate_file_list)"
   ]
  },
  {
   "cell_type": "code",
   "execution_count": 30,
   "metadata": {},
   "outputs": [],
   "source": [
    "ct = []\n",
    "for x in CT_file_list:\n",
    "    ct.append(int(x.split('../scratch_alan/prostate_jc/PROSTATE')[1].split('/')[0]))\n",
    "ct = set(ct)\n",
    "info2 = []\n",
    "for x in CT_file_list:\n",
    "    info2.append(int(x.split('../scratch_alan/prostate_jc/PROSTATE')[1].split('/')[0]))\n",
    "info2 = set(ct)\n",
    "info = []\n",
    "for x in CT_file_list:\n",
    "    info.append(int(x.split('../scratch_alan/prostate_jc/PROSTATE')[1].split('/')[0]))\n",
    "info = set(ct)\n",
    "prostate = []\n",
    "for x in prostate_file_list:\n",
    "    prostate.append(int(x.split('../scratch_alan/prostate_jc/PROSTATE')[1].split('/')[0]))\n",
    "prostate = set(prostate)\n",
    "\n",
    "t = ct.intersection(prostate).intersection(info).intersection(info2)"
   ]
  },
  {
   "cell_type": "code",
   "execution_count": 31,
   "metadata": {},
   "outputs": [],
   "source": [
    "ct_file = []\n",
    "for x in CT_file_list:\n",
    "    if int(x.split('../scratch_alan/prostate_jc/PROSTATE')[1].split('/')[0]) in t:\n",
    "        if len(x.split('../scratch_alan/prostate_jc/PROSTATE')[1].split('/')[0]) > 2:\n",
    "            ct_file.append('../scratch_alan/prostate_jc/PROSTATE'+x.split('../scratch_alan/prostate_jc/PROSTATE')[1].split('/')[0]+'/CT.bin')\n",
    "        elif len(x.split('../scratch_alan/prostate_jc/PROSTATE')[1].split('/')[0]) == 2:\n",
    "            ct_file.append('../scratch_alan/prostate_jc/PROSTATE0'+x.split('../scratch_alan/prostate_jc/PROSTATE')[1].split('/')[0]+'/CT.bin')\n",
    "        elif len(x.split('../scratch_alan/prostate_jc/PROSTATE')[1].split('/')[0]) == 1:\n",
    "            ct_file.append('../scratch_alan/prostate_jc/PROSTATE0'+x.split('../scratch_alan/prostate_jc/PROSTATE')[1].split('/')[0]+'/CT.bin')\n",
    "\n",
    "prostate_file = []\n",
    "for x in prostate_file_list:\n",
    "    if int(x.split('../scratch_alan/prostate_jc/PROSTATE')[1].split('/')[0]) in t:\n",
    "        if len(x.split('../scratch_alan/prostate_jc/PROSTATE')[1].split('/')[0]) > 2:\n",
    "            prostate_file.append('../scratch_alan/prostate_jc/PROSTATE'+x.split('../scratch_alan/prostate_jc/PROSTATE')[1].split('/')[0]+'/Prostate.bin')\n",
    "        elif len(x.split('../scratch_alan/prostate_jc/PROSTATE')[1].split('/')[0]) == 2:\n",
    "            prostate_file.append('../scratch_alan/prostate_jc/PROSTATE0'+x.split('../scratch_alan/prostate_jc/PROSTATE')[1].split('/')[0]+'/Prostate.bin')\n",
    "        elif len(x.split('../scratch_alan/prostate_jc/PROSTATE')[1].split('/')[0]) == 1:\n",
    "            prostate_file.append('../scratch_alan/prostate_jc/PROSTATE0'+x.split('../scratch_alan/prostate_jc/PROSTATE')[1].split('/')[0]+'/Prostate.bin')\n",
    "\n",
    "info_file = []\n",
    "for x in info_file_list:\n",
    "    if int(x.split('../scratch_alan/prostate_jc/PROSTATE')[1].split('/')[0]) in t:\n",
    "        if len(x.split('../scratch_alan/prostate_jc/PROSTATE')[1].split('/')[0]) > 2:\n",
    "            info_file.append('../scratch_alan/prostate_jc/PROSTATE'+x.split('../scratch_alan/prostate_jc/PROSTATE')[1].split('/')[0]+'/info.txt')\n",
    "        elif len(x.split('../scratch_alan/prostate_jc/PROSTATE')[1].split('/')[0]) == 2:\n",
    "            info_file.append('../scratch_alan/prostate_jc/PROSTATE0'+x.split('../scratch_alan/prostate_jc/PROSTATE')[1].split('/')[0]+'/info.txt')\n",
    "        elif len(x.split('../scratch_alan/prostate_jc/PROSTATE')[1].split('/')[0]) == 1:\n",
    "            info_file.append('../scratch_alan/prostate_jc/PROSTATE0'+x.split('../scratch_alan/prostate_jc/PROSTATE')[1].split('/')[0]+'/info.txt')\n",
    "\n",
    "info_file2 = []\n",
    "for x in info_file_list:\n",
    "    if int(x.split('../scratch_alan/prostate_jc/PROSTATE')[1].split('/')[0]) in t:\n",
    "        if len(x.split('../scratch_alan/prostate_jc/PROSTATE')[1].split('/')[0]) > 2:\n",
    "            info_file2.append('../scratch_alan/prostate_jc/PROSTATE'+x.split('../scratch_alan/prostate_jc/PROSTATE')[1].split('/')[0]+'/info_2.txt')\n",
    "        elif len(x.split('../scratch_alan/prostate_jc/PROSTATE')[1].split('/')[0]) == 2:\n",
    "            info_file2.append('../scratch_alan/prostate_jc/PROSTATE0'+x.split('../scratch_alan/prostate_jc/PROSTATE')[1].split('/')[0]+'/info_2.txt')\n",
    "        elif len(x.split('../scratch_alan/prostate_jc/PROSTATE')[1].split('/')[0]) == 1:\n",
    "            info_file2.append('../scratch_alan/prostate_jc/PROSTATE0'+x.split('../scratch_alan/prostate_jc/PROSTATE')[1].split('/')[0]+'/info_2.txt')"
   ]
  },
  {
   "cell_type": "code",
   "execution_count": 32,
   "metadata": {},
   "outputs": [],
   "source": [
    "from scipy.ndimage import zoom\n",
    "def match_images_res_single(vol_1,res_1,target):\n",
    "    rescale_1 = res_1/target\n",
    "    if rescale_1[0]!=1 or rescale_1[1]!=1 or rescale_1[2]!=1:\n",
    "        vol_1 = zoom(vol_1, (rescale_1))\n",
    "        \n",
    "    return(vol_1)"
   ]
  },
  {
   "cell_type": "code",
   "execution_count": 33,
   "metadata": {},
   "outputs": [],
   "source": [
    "\n",
    "CT_file_list = ct_file[:num_patients]\n",
    "prostate_file_list = prostate_file[:num_patients]\n",
    "\n",
    "info_file_list = info_file[:num_patients]\n",
    "info2_file_list = info_file2[:num_patients]\n",
    "\n",
    "array_list = []\n",
    "p_list = []\n",
    "size_list = []   "
   ]
  },
  {
   "cell_type": "code",
   "execution_count": 34,
   "metadata": {},
   "outputs": [],
   "source": [
    "# Define functions to load data with different format\n",
    "def CT_process(file_list,index):\n",
    "\n",
    "    array_list = []\n",
    "    for i in tqdm_notebook(range(len(file_list))):\n",
    "        with open(file_list[i],'rb') as file:\n",
    "            with open(info_file_list[i + 5*index],'r') as info_file:\n",
    "                with open(info2_file_list[i + 5*index],'r') as info2_file:\n",
    "                    binary = np.frombuffer(file.read(),dtype=np.int16)\n",
    "                    array = np.array(binary, dtype=np.int16)\n",
    "                    data_shape = [int(x.strip()) for x in info_file.readlines()[0].split()]\n",
    "    #                 print(array.shape, np.prod(np.array(data_shape)))                \n",
    "                    array = np.reshape((array),data_shape[::-1]*np.array(target_resolution)[::-1]) # Normalize the CT images to 0-1\n",
    "                    #resolution = [float(x.strip()) for x in info2_file.readlines()[0].split()]\n",
    "                    #array = match_images_res_single(array,np.array(resolution),np.array(target_resolution)[::-1])\n",
    "    #                 print(array.shape)\n",
    "    #                 print(array[:,250,:])\n",
    "    \n",
    "\n",
    "                    \n",
    "                    new_array = np.transpose(array, (1, 2, 0)) # The input is h*d*w, transpose it to d*h*w\n",
    "            \n",
    "                    \n",
    "                    \n",
    "                    #print(resolution)\n",
    "    #                 print(new_array[250,:,:])\n",
    "                    array_list.append(new_array)\n",
    "    return array_list\n",
    "\n",
    "\n",
    "def input_process(file_list,index):\n",
    "    array_list = []\n",
    "\n",
    "    for i in tqdm_notebook(range(len(file_list))):\n",
    "        with open(file_list[i],'rb') as file:\n",
    "            with open(info_file_list[i + 5*index],'r') as info_file:\n",
    "                with open(info2_file_list[i + 5*index],'r') as info2_file:\n",
    "                    binary = np.frombuffer(file.read(),dtype=np.int8)\n",
    "                    array = np.array(binary, dtype=np.int8)\n",
    "                    data_shape = [int(x.strip()) for x in info_file.readlines()[0].split()]\n",
    "                    array = np.reshape((array),data_shape[::-1]*np.array(target_resolution)[::-1]) # Normalize the CT images to 0-1\n",
    "                    #normalize\n",
    "                    #normalize      \n",
    "\n",
    "                    new_array = np.transpose(array, (1,2,0)) # The input is d , transpose it to h w d\n",
    "                \n",
    "                      \n",
    "                    array_list.append(new_array)\n",
    "\n",
    "    return array_list\n"
   ]
  },
  {
   "cell_type": "code",
   "execution_count": 35,
   "metadata": {},
   "outputs": [],
   "source": [
    "# Show images for each patient\n",
    "def show_image(patient_id, dimention = 85):\n",
    "    fig = plt.figure(figsize=[25,10])\n",
    "    fig.suptitle(f\"Patient: {patient_id}\", fontsize=25)\n",
    "    ax = plt.subplot(\"221\")\n",
    "    ax.set_title(\"CT\",fontsize=16)\n",
    "    ax.imshow(CT[patient_id][:,:,dimention])\n",
    "\n",
    "    ax = plt.subplot(\"222\")\n",
    "    ax.set_title(\"Prostate\",fontsize=16)\n",
    "    ax.imshow(labels[patient_id][:,:,dimention])\n",
    "    \n",
    "    plt.show()\n",
    "    # Show images for each patient\n",
    "def show_label(patient_id, dimention = 85):\n",
    "    fig = plt.figure(figsize=[25,10])\n",
    "    fig.suptitle(f\"Patient: {patient_id}\", fontsize=25)\n",
    "    ax = plt.subplot(\"221\")\n",
    "    ax.set_title(\"CT\",fontsize=16)\n",
    "    ax.imshow(labels[patient_id][:,:,dimention])\n",
    "\n",
    "    ax = plt.subplot(\"222\")\n",
    "    ax.set_title(\"Prostate\",fontsize=16)\n",
    "    ax.imshow(labels[patient_id][:,:,dimention])\n",
    "    \n",
    "    plt.show()\n",
    "def input_get(i, channel1, img_for_center):\n",
    "    box1 = box_around(channel1[i], center_of_mass(img_for_center[i]), window_size)[0,0,:,:,:]\n",
    "    return box1"
   ]
  },
  {
   "cell_type": "code",
   "execution_count": 36,
   "metadata": {},
   "outputs": [],
   "source": [
    "def center_of_mass(target, shift=None):\n",
    "    target = np.squeeze(target)\n",
    "    assert len(target.shape) == 3\n",
    "    shift = [shift]*3 if isinstance(shift, (int,float)) else shift if isinstance(shift, (tuple,list)) else (0,0,0)\n",
    "    # shift = np.concatenate(([0]*(len(target.shape[-3:])-3), np.random.randn(3) * shift))\n",
    "    shift = np.random.randn(3) * shift\n",
    "    return np.array(shift + [np.mean(d) for d in np.where(target>0.5)], dtype=int)\n",
    "\n",
    "\n",
    "def box_around(image, center, box_size, return_corner=False, pad=True):\n",
    "    slices = [slice(None)] * 5\n",
    "    corner = [None] * 5\n",
    "    padding = [(0,0)] * 5\n",
    "    for i, (sha, siz, cen) in enumerate(zip(reversed(np.shape(image)), reversed(box_size), reversed(center))):\n",
    "        if siz is not None:\n",
    "            ovlp = max(0, int(cen + siz / 2. - sha))\n",
    "            udlp = max(0, -int(cen - siz / 2))\n",
    "            left = udlp + int(cen - siz / 2.) - ovlp\n",
    "            padding[-i - 1] = max(0, int(np.floor(-left / 2))), max(0, int(np.ceil(-left / 2)))\n",
    "            corner[-i - 1] = left  # max(left, padding[-i-1][0]) #udlp + int(cen-siz/2.) - ovlp\n",
    "            slices[-i - 1] = slice(max(0, left), left + siz)\n",
    "\n",
    "    ret = copy.deepcopy(reshape_image(image)[slices])\n",
    "    if any(pad != (0,0) for pad in padding): ret = np.pad(ret, padding, 'constant', constant_values=np.min(ret))\n",
    "    if return_corner: return ret, corner[-3:]\n",
    "    return ret\n",
    "def reshape_image(image):\n",
    "    shape = [1]*(5-len(image.shape)) + list(image.shape)\n",
    "    return image.reshape(shape)"
   ]
  },
  {
   "cell_type": "code",
   "execution_count": 37,
   "metadata": {},
   "outputs": [
    {
     "data": {
      "text/plain": [
       "111"
      ]
     },
     "execution_count": 37,
     "metadata": {},
     "output_type": "execute_result"
    }
   ],
   "source": [
    "len(prostate_file)"
   ]
  },
  {
   "cell_type": "code",
   "execution_count": 40,
   "metadata": {
    "scrolled": true
   },
   "outputs": [
    {
     "data": {
      "application/vnd.jupyter.widget-view+json": {
       "model_id": "b5e7d08cfa2744b7b5d33896b8613f1f",
       "version_major": 2,
       "version_minor": 0
      },
      "text/plain": [
       "HBox(children=(IntProgress(value=0, max=5), HTML(value='')))"
      ]
     },
     "metadata": {},
     "output_type": "display_data"
    },
    {
     "name": "stdout",
     "output_type": "stream",
     "text": [
      "\n"
     ]
    },
    {
     "data": {
      "application/vnd.jupyter.widget-view+json": {
       "model_id": "30d12fcb8d3a46a4b0c364fb8b29f181",
       "version_major": 2,
       "version_minor": 0
      },
      "text/plain": [
       "HBox(children=(IntProgress(value=0, max=5), HTML(value='')))"
      ]
     },
     "metadata": {},
     "output_type": "display_data"
    },
    {
     "name": "stdout",
     "output_type": "stream",
     "text": [
      "\n"
     ]
    },
    {
     "name": "stderr",
     "output_type": "stream",
     "text": [
      "/home/vasant/anaconda3/lib/python3.7/site-packages/ipykernel_launcher.py:23: FutureWarning: Using a non-tuple sequence for multidimensional indexing is deprecated; use `arr[tuple(seq)]` instead of `arr[seq]`. In the future this will be interpreted as an array index, `arr[np.array(seq)]`, which will result either in an error or a different result.\n"
     ]
    },
    {
     "name": "stdout",
     "output_type": "stream",
     "text": [
      "patient 0 completed\n",
      "patient 1 completed\n",
      "patient 2 completed\n",
      "patient 3 completed\n",
      "patient 4 completed\n"
     ]
    },
    {
     "data": {
      "application/vnd.jupyter.widget-view+json": {
       "model_id": "a083a19e14574b90ac2a5f9516ce8134",
       "version_major": 2,
       "version_minor": 0
      },
      "text/plain": [
       "HBox(children=(IntProgress(value=0, max=5), HTML(value='')))"
      ]
     },
     "metadata": {},
     "output_type": "display_data"
    },
    {
     "name": "stdout",
     "output_type": "stream",
     "text": [
      "\n"
     ]
    },
    {
     "data": {
      "application/vnd.jupyter.widget-view+json": {
       "model_id": "c926e45d8baa4ca29f88031448d0d403",
       "version_major": 2,
       "version_minor": 0
      },
      "text/plain": [
       "HBox(children=(IntProgress(value=0, max=5), HTML(value='')))"
      ]
     },
     "metadata": {},
     "output_type": "display_data"
    },
    {
     "name": "stdout",
     "output_type": "stream",
     "text": [
      "\n",
      "patient 5 completed\n",
      "patient 6 completed\n",
      "patient 7 completed\n"
     ]
    },
    {
     "ename": "FileNotFoundError",
     "evalue": "[Errno 2] No such file or directory: './datasets/prostate_segmentation/val_new/patient_0008_slice_0000.jpg'",
     "output_type": "error",
     "traceback": [
      "\u001b[0;31m---------------------------------------------------------------------------\u001b[0m",
      "\u001b[0;31mFileNotFoundError\u001b[0m                         Traceback (most recent call last)",
      "\u001b[0;32m<ipython-input-40-4200f1451e01>\u001b[0m in \u001b[0;36m<module>\u001b[0;34m\u001b[0m\n\u001b[1;32m     71\u001b[0m                     \u001b[0maligned_image\u001b[0m\u001b[0;34m.\u001b[0m\u001b[0msave\u001b[0m\u001b[0;34m(\u001b[0m\u001b[0mos\u001b[0m\u001b[0;34m.\u001b[0m\u001b[0mpath\u001b[0m\u001b[0;34m.\u001b[0m\u001b[0mjoin\u001b[0m\u001b[0;34m(\u001b[0m\u001b[0mtarget_save_path\u001b[0m\u001b[0;34m,\u001b[0m\u001b[0;34m'train_new'\u001b[0m\u001b[0;34m,\u001b[0m \u001b[0;34m'patient_{:04d}'\u001b[0m\u001b[0;34m.\u001b[0m\u001b[0mformat\u001b[0m\u001b[0;34m(\u001b[0m\u001b[0mtemp_inx\u001b[0m\u001b[0;34m)\u001b[0m\u001b[0;34m+\u001b[0m\u001b[0;34m'_slice_{:04d}'\u001b[0m\u001b[0;34m.\u001b[0m\u001b[0mformat\u001b[0m\u001b[0;34m(\u001b[0m\u001b[0mcurrent_slice\u001b[0m\u001b[0;34m)\u001b[0m\u001b[0;34m+\u001b[0m\u001b[0;34m'.jpg'\u001b[0m\u001b[0;34m)\u001b[0m\u001b[0;34m)\u001b[0m\u001b[0;34m\u001b[0m\u001b[0;34m\u001b[0m\u001b[0m\n\u001b[1;32m     72\u001b[0m                 \u001b[0;32melif\u001b[0m \u001b[0;34m(\u001b[0m\u001b[0mtemp_inx\u001b[0m\u001b[0;34m)\u001b[0m\u001b[0;34m%\u001b[0m\u001b[0;36m10\u001b[0m \u001b[0;34m==\u001b[0m \u001b[0;36m8\u001b[0m\u001b[0;34m:\u001b[0m\u001b[0;34m\u001b[0m\u001b[0;34m\u001b[0m\u001b[0m\n\u001b[0;32m---> 73\u001b[0;31m                     \u001b[0maligned_image\u001b[0m\u001b[0;34m.\u001b[0m\u001b[0msave\u001b[0m\u001b[0;34m(\u001b[0m\u001b[0mos\u001b[0m\u001b[0;34m.\u001b[0m\u001b[0mpath\u001b[0m\u001b[0;34m.\u001b[0m\u001b[0mjoin\u001b[0m\u001b[0;34m(\u001b[0m\u001b[0mtarget_save_path\u001b[0m\u001b[0;34m,\u001b[0m\u001b[0;34m'val_new'\u001b[0m\u001b[0;34m,\u001b[0m \u001b[0;34m'patient_{:04d}'\u001b[0m\u001b[0;34m.\u001b[0m\u001b[0mformat\u001b[0m\u001b[0;34m(\u001b[0m\u001b[0mtemp_inx\u001b[0m\u001b[0;34m)\u001b[0m\u001b[0;34m+\u001b[0m\u001b[0;34m'_slice_{:04d}'\u001b[0m\u001b[0;34m.\u001b[0m\u001b[0mformat\u001b[0m\u001b[0;34m(\u001b[0m\u001b[0mcurrent_slice\u001b[0m\u001b[0;34m)\u001b[0m\u001b[0;34m+\u001b[0m\u001b[0;34m'.jpg'\u001b[0m\u001b[0;34m)\u001b[0m\u001b[0;34m)\u001b[0m\u001b[0;34m\u001b[0m\u001b[0;34m\u001b[0m\u001b[0m\n\u001b[0m\u001b[1;32m     74\u001b[0m                 \u001b[0;32melse\u001b[0m\u001b[0;34m:\u001b[0m\u001b[0;34m\u001b[0m\u001b[0;34m\u001b[0m\u001b[0m\n\u001b[1;32m     75\u001b[0m                     \u001b[0maligned_image\u001b[0m\u001b[0;34m.\u001b[0m\u001b[0msave\u001b[0m\u001b[0;34m(\u001b[0m\u001b[0mos\u001b[0m\u001b[0;34m.\u001b[0m\u001b[0mpath\u001b[0m\u001b[0;34m.\u001b[0m\u001b[0mjoin\u001b[0m\u001b[0;34m(\u001b[0m\u001b[0mtarget_save_path\u001b[0m\u001b[0;34m,\u001b[0m\u001b[0;34m'test_new'\u001b[0m\u001b[0;34m,\u001b[0m \u001b[0;34m'patient_{:04d}'\u001b[0m\u001b[0;34m.\u001b[0m\u001b[0mformat\u001b[0m\u001b[0;34m(\u001b[0m\u001b[0mtemp_inx\u001b[0m\u001b[0;34m)\u001b[0m\u001b[0;34m+\u001b[0m\u001b[0;34m'_slice_{:04d}'\u001b[0m\u001b[0;34m.\u001b[0m\u001b[0mformat\u001b[0m\u001b[0;34m(\u001b[0m\u001b[0mcurrent_slice\u001b[0m\u001b[0;34m)\u001b[0m\u001b[0;34m+\u001b[0m\u001b[0;34m'.jpg'\u001b[0m\u001b[0;34m)\u001b[0m\u001b[0;34m)\u001b[0m\u001b[0;34m\u001b[0m\u001b[0;34m\u001b[0m\u001b[0m\n",
      "\u001b[0;32m~/anaconda3/lib/python3.7/site-packages/PIL/Image.py\u001b[0m in \u001b[0;36msave\u001b[0;34m(self, fp, format, **params)\u001b[0m\n\u001b[1;32m   1964\u001b[0m                 \u001b[0;31m# Open also for reading (\"+\"), because TIFF save_all\u001b[0m\u001b[0;34m\u001b[0m\u001b[0;34m\u001b[0m\u001b[0;34m\u001b[0m\u001b[0m\n\u001b[1;32m   1965\u001b[0m                 \u001b[0;31m# writer needs to go back and edit the written data.\u001b[0m\u001b[0;34m\u001b[0m\u001b[0;34m\u001b[0m\u001b[0;34m\u001b[0m\u001b[0m\n\u001b[0;32m-> 1966\u001b[0;31m                 \u001b[0mfp\u001b[0m \u001b[0;34m=\u001b[0m \u001b[0mbuiltins\u001b[0m\u001b[0;34m.\u001b[0m\u001b[0mopen\u001b[0m\u001b[0;34m(\u001b[0m\u001b[0mfilename\u001b[0m\u001b[0;34m,\u001b[0m \u001b[0;34m\"w+b\"\u001b[0m\u001b[0;34m)\u001b[0m\u001b[0;34m\u001b[0m\u001b[0;34m\u001b[0m\u001b[0m\n\u001b[0m\u001b[1;32m   1967\u001b[0m \u001b[0;34m\u001b[0m\u001b[0m\n\u001b[1;32m   1968\u001b[0m         \u001b[0;32mtry\u001b[0m\u001b[0;34m:\u001b[0m\u001b[0;34m\u001b[0m\u001b[0;34m\u001b[0m\u001b[0m\n",
      "\u001b[0;31mFileNotFoundError\u001b[0m: [Errno 2] No such file or directory: './datasets/prostate_segmentation/val_new/patient_0008_slice_0000.jpg'"
     ]
    }
   ],
   "source": [
    "import random\n",
    "import shutil\n",
    "import numpy as np\n",
    "\n",
    "trainfolder_a = os.path.join('datasets/prostate_segmentation/train_A')\n",
    "trainfolder_b = os.path.join('datasets/prostate_segmentation/train_B')\n",
    "testfolder_a = os.path.join('datasets/prostate_segmentation/test_A')\n",
    "testfolder_b = os.path.join('datasets/prostate_segmentation/test_B')\n",
    "for i in range(20): #split up data\n",
    "\n",
    "    labels = input_process(prostate_file[i*5:(i+1)*5],i)\n",
    "    CT = CT_process(ct_file[i*5:(i+1)*5],i)\n",
    "    for patient_index in range(5):\n",
    "        #get pictures\n",
    "        temp_inx = 5*i + patient_index\n",
    "        if temp_inx !=4 and temp_inx!=7:\n",
    "\n",
    "            current_CT = box_around(CT[patient_index] , center_of_mass(labels[patient_index]), window_size)[0,0,:,:,:]\n",
    "            current_prostate = box_around(labels[patient_index] , center_of_mass(labels[patient_index]), window_size)[0,0,:,:,:]\n",
    "\n",
    "            z_dim = current_CT.shape[2]\n",
    "            has_mass = []\n",
    "            has_no_mass = []\n",
    "            for z_pixel in range(z_dim):\n",
    "                #find which depths has prostate mass\n",
    "                if current_prostate[:,:,z_pixel].sum() > 0:\n",
    "\n",
    "                    has_mass.append(z_pixel)\n",
    "                else:\n",
    "                    has_no_mass.append(z_pixel)\n",
    "                    \n",
    "            #get pdf for sampling with mass\n",
    "            p_has_mass = []\n",
    "            tote_vol = 0\n",
    "            for d in has_mass:\n",
    "                curr_slice = current_prostate[:,:,d]\n",
    "                curr_p =  curr_slice.shape[0] * curr_slice.shape[1] - curr_slice.sum()\n",
    "                tote_vol += curr_p\n",
    "                p_has_mass.append(curr_p)\n",
    "            p_has_mass = np.array([p/tote_vol for p in p_has_mass])    \n",
    "            has_mass = np.array(has_mass)\n",
    "            \n",
    "            \n",
    "            selected_mass = np.random.choice(has_mass,size = int(slices_per_patient/2),p=p_has_mass )\n",
    "            selected_no_mass = random.sample(has_no_mass,int(slices_per_patient/2))\n",
    "            current_slice = 0\n",
    "            for current_mass_slice in range(len(selected_mass)):   \n",
    "                \n",
    "                slice_a = current_CT[:,:,selected_mass[current_mass_slice]]\n",
    "                \n",
    "                slice_b = current_prostate[:,:,selected_mass[current_mass_slice]]\n",
    "\n",
    "\n",
    "                #Normalizing\n",
    "                #slice_a = (slice_a-slice_a.mean()+0.5)/(  slice_a.std())\n",
    "                #slice_b = (slice_b-slice_b.mean()+0.5)/(  slice_b.std())\n",
    "\n",
    "                slice_a = slice_a/slice_a.max()*255\n",
    "                slice_b = slice_b*255\n",
    "                \n",
    "\n",
    "                img_a = Image.fromarray(slice_a) # slice images\n",
    "                img_b = Image.fromarray(slice_b)    \n",
    "                \n",
    "                assert(img_a.size == img_b.size)\n",
    "                aligned_image = Image.new(\"RGB\", (img_a.size[0] * 2, img_a.size[1]))\n",
    "                aligned_image.paste(img_a, (0, 0))\n",
    "                aligned_image.paste(img_b, (img_a.size[0], 0))\n",
    "\n",
    "                if (temp_inx)%10 in [0,1,2,3,4,5,6,7]:\n",
    "                    aligned_image.save(os.path.join(target_save_path,'train_new', 'patient_{:04d}'.format(temp_inx)+'_slice_{:04d}'.format(current_slice)+'.jpg'))\n",
    "                elif (temp_inx)%10 == 8:\n",
    "                    aligned_image.save(os.path.join(target_save_path,'val_new', 'patient_{:04d}'.format(temp_inx)+'_slice_{:04d}'.format(current_slice)+'.jpg'))\n",
    "                else:\n",
    "                    aligned_image.save(os.path.join(target_save_path,'test_new', 'patient_{:04d}'.format(temp_inx)+'_slice_{:04d}'.format(current_slice)+'.jpg'))\n",
    "                current_slice += 1               \n",
    "            for current_no_mass_slice in range(len(selected_no_mass)):       \n",
    "                                    \n",
    "                slice_a = current_CT[:,:,selected_no_mass[current_no_mass_slice]] # slice images\n",
    "                slice_b = current_prostate[:,:,selected_no_mass[current_no_mass_slice]]     \n",
    "                assert(img_a.size == img_b.size)\n",
    "                \n",
    "\n",
    "                slice_a = slice_a/slice_a.max()*255\n",
    "\n",
    "\n",
    "                #Cannot devide by b's max as it is 0, but it is not neccesary\n",
    "                #slice_b = slice_b/slice_b.max()*255\n",
    "\n",
    "\n",
    "                img_a = Image.fromarray(slice_a) # slice images\n",
    "                img_b = Image.fromarray(slice_b)   \n",
    "                                    \n",
    "                aligned_image = Image.new(\"RGB\", (img_a.size[0] * 2, img_a.size[1]))\n",
    "                aligned_image.paste(img_a, (0, 0))\n",
    "                aligned_image.paste(img_b, (img_a.size[0], 0))\n",
    "                if (temp_inx)%10 in [0,1,2,3,4,5,6,7]:\n",
    "                    aligned_image.save(os.path.join(target_save_path,'train_new', 'patient_{:04d}'.format(temp_inx)+'_slice_{:04d}'.format(current_slice)+'.jpg'))\n",
    "             \n",
    "                else:\n",
    "                    aligned_image.save(os.path.join(target_save_path,'test_new', 'patient_{:04d}'.format(temp_inx)+'_slice_{:04d}'.format(current_slice)+'.jpg'))\n",
    "                current_slice += 1\n",
    "\n",
    "\n",
    "\n",
    "\n",
    "        print(\"patient \"+str(temp_inx)+\" completed\")"
   ]
  },
  {
   "cell_type": "code",
   "execution_count": null,
   "metadata": {},
   "outputs": [],
   "source": []
  },
  {
   "cell_type": "code",
   "execution_count": null,
   "metadata": {},
   "outputs": [],
   "source": []
  },
  {
   "cell_type": "code",
   "execution_count": null,
   "metadata": {},
   "outputs": [],
   "source": []
  },
  {
   "cell_type": "code",
   "execution_count": null,
   "metadata": {},
   "outputs": [],
   "source": []
  },
  {
   "cell_type": "code",
   "execution_count": null,
   "metadata": {},
   "outputs": [],
   "source": []
  }
 ],
 "metadata": {
  "kernelspec": {
   "display_name": "Python 3",
   "language": "python",
   "name": "python3"
  },
  "language_info": {
   "codemirror_mode": {
    "name": "ipython",
    "version": 3
   },
   "file_extension": ".py",
   "mimetype": "text/x-python",
   "name": "python",
   "nbconvert_exporter": "python",
   "pygments_lexer": "ipython3",
   "version": "3.7.1"
  }
 },
 "nbformat": 4,
 "nbformat_minor": 2
}
